{
 "cells": [
  {
   "cell_type": "code",
   "execution_count": 5,
   "metadata": {},
   "outputs": [
    {
     "name": "stdout",
     "output_type": "stream",
     "text": [
      "Subtraction = (1+10j)\n"
     ]
    }
   ],
   "source": [
    "# Write a Program to subtract two complex number in python.\n",
    "\n",
    "x = 4+3j\n",
    "y = 3-7j\n",
    "print('Subtraction =',x-y)"
   ]
  },
  {
   "cell_type": "code",
   "execution_count": 41,
   "metadata": {},
   "outputs": [
    {
     "name": "stdout",
     "output_type": "stream",
     "text": [
      "Fourth root of x is 1.8612097182041991\n"
     ]
    }
   ],
   "source": [
    "# Write a program to find the fourth root of a number.\n",
    "\n",
    "x = 12\n",
    "\n",
    "print('Fourth root of x is',x**(1/4))"
   ]
  },
  {
   "cell_type": "code",
   "execution_count": 43,
   "metadata": {},
   "outputs": [
    {
     "name": "stdout",
     "output_type": "stream",
     "text": [
      "Value of x before swap 5 \n",
      "Value of y before swap 3\n",
      "Value of x after swap = 3 \n",
      "Value of y after swap = 5\n"
     ]
    }
   ],
   "source": [
    "# Write a program to swap two number in python with help of a temporary variable.\n",
    "\n",
    "x = 5\n",
    "y = 3\n",
    "\n",
    "print('Value of x before swap =',x,'\\nValue of y before swap =',y)\n",
    "\n",
    "temp = x\n",
    "x = y \n",
    "y = temp\n",
    "\n",
    "print ('Value of x after swap =',x,'\\nValue of y after swap =',y)"
   ]
  },
  {
   "cell_type": "code",
   "execution_count": 44,
   "metadata": {},
   "outputs": [
    {
     "name": "stdout",
     "output_type": "stream",
     "text": [
      "Before Swap x =  5 \n",
      "Before Swap y = 3\n",
      "After Swap x = 3 \n",
      "After Swap y = 5\n"
     ]
    }
   ],
   "source": [
    "# # Write a program to swap two number in python without using a temporary variable.\n",
    "\n",
    "x = 5\n",
    "y = 3\n",
    "\n",
    "print('Before Swap x = ',x,'\\nBefore Swap y =',y)\n",
    " \n",
    "x = x+y\n",
    "y = x-y\n",
    "x = x-y\n",
    "\n",
    "print ('After Swap x =',x,'\\nAfter Swap y =',y)\n"
   ]
  },
  {
   "cell_type": "code",
   "execution_count": 3,
   "metadata": {},
   "outputs": [
    {
     "name": "stdout",
     "output_type": "stream",
     "text": [
      "Celsius = 35.888888888888886 \n",
      "Kelvin = 309.0388888888889\n"
     ]
    }
   ],
   "source": [
    "# Write a program to convert fahrenheit to kelvin and celsius both.\n",
    "\n",
    "Fahrenheit = 96.6\n",
    "\n",
    "celsius = (5*(Fahrenheit-32))/9\n",
    "kelvin =  (Fahrenheit + 459.67)*5/9\n",
    "# kelvin = (celsius + 273)\n",
    "\n",
    "print('Celsius =',celsius,'\\nKelvin =',kelvin)"
   ]
  },
  {
   "cell_type": "code",
   "execution_count": 40,
   "metadata": {},
   "outputs": [
    {
     "name": "stdout",
     "output_type": "stream",
     "text": [
      "5 is of <class 'int'>\n",
      "2.5 is of <class 'float'>\n",
      "Ankita is of <class 'str'>\n",
      "(3+4j) is of <class 'complex'>\n",
      "[2, 3, 4, 5] is of <class 'list'>\n",
      "(2, 3, 4, 5) is of <class 'tuple'>\n"
     ]
    }
   ],
   "source": [
    "# Write a program to demonstrate all the available data type in Python.\n",
    "\n",
    "a = 5\n",
    "print(a,'is of',type(a))\n",
    "\n",
    "b = 2.5\n",
    "print(b,'is of',type(b))\n",
    "\n",
    "c= 'Ankita'\n",
    "print(c,'is of',type(c))\n",
    "\n",
    "d = 3+4j\n",
    "print(d,'is of',type(d))\n",
    "\n",
    "e = [2,3,4,5]\n",
    "print(e,'is of',type(e))\n",
    "\n",
    "f = (2,3,4,5)\n",
    "print(f,'is of',type(f))"
   ]
  },
  {
   "cell_type": "markdown",
   "metadata": {},
   "source": [
    "# How to Create a GitHub Profile\n",
    "\n",
    "1.Go to www.github.com\n",
    "2.Then signup with your email address Create a user name and set a password.\n",
    "3.You will receive a mail from github for email verification.\n",
    "4.Do the verification and your github profile is been created.\n",
    "5.If you already have a account then just sign in.\n",
    "\n",
    "# How to Create a Repository in GitHub for Assignment Submission\n",
    "\n",
    "1.At the left hand side of the github page you will the green button to create a repository.\n",
    "2.click on that button and the the new window will open give in that fill  repository name __'Lets Upgrage AI/ML'__\n",
    "3.Don't do any other changes and create the repository.\n",
    "4.when the repository is created the another window will open scroll down you see the option for create a file or upload a file.\n",
    "5.As per your choice you are create a file or upload a existing file.when you click on the existing file option you will see the box where you can drag and drop your file which need to be uploaded.\n",
    "\n",
    "# How to Upload a GitHub link on Google From\n",
    "\n",
    "1.First upload the file on github then copy the link from the address bar.\n",
    "2.Then to check if the link is working you are put the link in the another browsing window.\n",
    "3.After the verification you have to fill the __Google from__ where you have to fill you email address,mobile no,assignment day and the link and then submitted the from.\n",
    "4.You will the the google mail for conformation that your assignment is been submitted.\n",
    "\n",
    "\n",
    "\n",
    "\n"
   ]
  }
 ],
 "metadata": {
  "kernelspec": {
   "display_name": "Python 3",
   "language": "python",
   "name": "python3"
  },
  "language_info": {
   "codemirror_mode": {
    "name": "ipython",
    "version": 3
   },
   "file_extension": ".py",
   "mimetype": "text/x-python",
   "name": "python",
   "nbconvert_exporter": "python",
   "pygments_lexer": "ipython3",
   "version": "3.7.6"
  }
 },
 "nbformat": 4,
 "nbformat_minor": 4
}
