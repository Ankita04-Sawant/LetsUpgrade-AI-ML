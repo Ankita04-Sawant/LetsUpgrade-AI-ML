{
 "cells": [
  {
   "cell_type": "markdown",
   "metadata": {},
   "source": [
    "# Question 3:"
   ]
  },
  {
   "cell_type": "markdown",
   "metadata": {},
   "source": [
    "# What is Set?\n",
    "\n",
    "A set is a collection which is unordered and unindexed. In Python sets are written with curly brackets."
   ]
  },
  {
   "cell_type": "markdown",
   "metadata": {},
   "source": [
    "### Example:\n",
    "\n",
    "create a set:"
   ]
  },
  {
   "cell_type": "code",
   "execution_count": 2,
   "metadata": {},
   "outputs": [
    {
     "name": "stdout",
     "output_type": "stream",
     "text": [
      "{'mango', 'pineapple', 'apple'}\n"
     ]
    }
   ],
   "source": [
    "a = {'apple','mango','pineapple'}\n",
    "print(a)"
   ]
  },
  {
   "cell_type": "markdown",
   "metadata": {},
   "source": [
    "### Example:\n",
    "\n",
    "Loop through the set, and print the values:"
   ]
  },
  {
   "cell_type": "code",
   "execution_count": 4,
   "metadata": {},
   "outputs": [
    {
     "name": "stdout",
     "output_type": "stream",
     "text": [
      "cherry banana apple "
     ]
    }
   ],
   "source": [
    "data = {\"apple\", \"banana\", \"cherry\"}\n",
    "\n",
    "for x in data:\n",
    "  print(x,end = \" \")"
   ]
  },
  {
   "cell_type": "markdown",
   "metadata": {},
   "source": [
    "## SET Methods\n",
    "\n",
    "### Python has a set of built-in methods that you can use on sets."
   ]
  },
  {
   "cell_type": "markdown",
   "metadata": {},
   "source": [
    "\n",
    "add()\t                  # Adds an element to the set.\n",
    "clear()                \t  #Removes all the elements from the set.\n",
    "copy()\t                  #Returns a copy of the set.\n",
    "difference()\t          #Returns a set containing the difference between two or more sets\n",
    "difference_update()\t      #Removes the items in this set that are also included in another, specified set\n",
    "discard()\t              #Remove the specified item\n",
    "intersection()\t          #Returns a set, that is the intersection of two other sets\n",
    "intersection_update()\t  #Removes the items in this set that are not present in other, specified set(s)\n",
    "isdisjoint()\t          #Returns whether two sets have a intersection or not\n",
    "issubset()\t              #Returns whether another set contains this set or not\n",
    "issuperset()\t          #Returns whether this set contains another set or not\n",
    "pop()\t                  #Removes an element from the set\n",
    "remove()\t              #Removes the specified element\n",
    "symmetric_difference()\t  #Returns a set with the symmetric differences of two sets\n",
    "symmetric_difference_update()\t#inserts the symmetric differences from this set and another\n",
    "union()\t                  #Return a set containing the union of sets\n",
    "update()\t              #Update the set with the union of this set and others"
   ]
  },
  {
   "cell_type": "code",
   "execution_count": 9,
   "metadata": {},
   "outputs": [
    {
     "name": "stdout",
     "output_type": "stream",
     "text": [
      "3\n",
      "{'orange', 'cherry', 'banana', 'apple'}\n"
     ]
    }
   ],
   "source": [
    "data = {\"apple\", \"banana\", \"cherry\"}\n",
    "\n",
    "print(len(data))\n",
    "data.add(\"orange\")\n",
    "print(data)"
   ]
  },
  {
   "cell_type": "code",
   "execution_count": null,
   "metadata": {},
   "outputs": [],
   "source": []
  }
 ],
 "metadata": {
  "kernelspec": {
   "display_name": "Python 3",
   "language": "python",
   "name": "python3"
  },
  "language_info": {
   "codemirror_mode": {
    "name": "ipython",
    "version": 3
   },
   "file_extension": ".py",
   "mimetype": "text/x-python",
   "name": "python",
   "nbconvert_exporter": "python",
   "pygments_lexer": "ipython3",
   "version": "3.7.6"
  }
 },
 "nbformat": 4,
 "nbformat_minor": 4
}
