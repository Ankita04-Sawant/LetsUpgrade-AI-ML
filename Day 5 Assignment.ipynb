{
 "cells": [
  {
   "cell_type": "code",
   "execution_count": 7,
   "metadata": {},
   "outputs": [
    {
     "name": "stdout",
     "output_type": "stream",
     "text": [
      "How many number to print: 30\n",
      "\n",
      "Here are first 30 non-even prime numbers:\n",
      "3 5 7 11 13 17 19 23 29 31 37 41 43 47 53 59 61 67 71 73 79 83 89 97 101 103 107 109 113 127 "
     ]
    }
   ],
   "source": [
    "# W.A.P to find first 20 non-even prime numbers\n",
    "\n",
    "a = int(input(\"How many number to print: \"))\n",
    "nos = range(1,a*10)\n",
    "prime_nos = []\n",
    "\n",
    "for num in nos:\n",
    "    if num > 2 and len(prime_nos) <= a-1:\n",
    "        for i in range(2,num):\n",
    "            if(num%i)==0:\n",
    "                break\n",
    "        else:\n",
    "            prime_nos.append(num)\n",
    "            \n",
    "print(\"\\nHere are first\",a,\"non-even prime numbers:\")\n",
    "for x in prime_nos:\n",
    "    print(x,end = \" \")"
   ]
  },
  {
   "cell_type": "code",
   "execution_count": 8,
   "metadata": {},
   "outputs": [
    {
     "name": "stdout",
     "output_type": "stream",
     "text": [
      "hello, and welcome to my world!\n",
      "4\n",
      "For only 45.00 dollars!\n",
      "False\n",
      "Ankia#kalpana#Devyani\n",
      "I like pineapple\n",
      "('Hello, And ', 'Welcome', ' To My World!')\n",
      "0000000050\n",
      "PYTHON\n",
      "hello, and welcome to my world!\n",
      "True\n",
      "hELLO, aND wELCOME tO mY wORLD!\n",
      "True\n",
      "       Python       \n",
      "11\n",
      "25\n"
     ]
    }
   ],
   "source": [
    "# W.A.P to implement 15 function of Strings.\n",
    "\n",
    "s1 = \"Hello, And Welcome To My World!\"\n",
    "s2 = \"For only {price:.2f} dollars!\"\n",
    "s3 = (\"Ankia\",\"kalpana\",\"Devyani\")\n",
    "s4 = \"I like apple\"\n",
    "s5 = '50'\n",
    "s6 = 'Python'\n",
    "s7 = 'Company29'\n",
    "\n",
    "print(s1.casefold())          # Converts string into lower case\n",
    "print(s1.count('o'))          # Returns the number of times a specified value occurs in a string\n",
    "print(s2.format(price = 45))  #Formats specified values in a string\n",
    "print(s1.isalpha())   # Returns a string where a specified value is replaced with a specified value\n",
    "print('#'.join(s3))  # Returns a string where a specified value is replaced with a specified value\n",
    "print(s4.replace('apple','pineapple'))  # Returns a string where a specified value is replaced with a specified value\n",
    "print(s1.partition('Welcome'))   # Fills the string with a specified number of 0 values at the beginning\n",
    "print(s5.zfill(10))  #Fills the string with a specified number of 0 values at the beginning\n",
    "print(s6.upper())   #Converts a string into upper case\n",
    "print(s1.lower())   # Converts a string into lower case\n",
    "print(s7.isalnum()) # used when values are alphanumeric\n",
    "print(s1.swapcase())       #Swaps cases, lower case becomes upper case and vice versa\n",
    "print(s1.endswith(\"!\"))   # Returns true if the string ends with the specified value\n",
    "print(s6.center(20))      # Returns a centre String\n",
    "print(s1.index('Welcome')) # To find out the index no\n",
    "print(s1.find('World'))    # Searches the string for a specified value and returns the position of where it was found\n",
    "\n",
    "\n",
    "\n"
   ]
  },
  {
   "cell_type": "code",
   "execution_count": 1,
   "metadata": {},
   "outputs": [
    {
     "name": "stdout",
     "output_type": "stream",
     "text": [
      "Enter the 1st String: dad\n",
      "Enter the 2nd String: add\n",
      "Entered String is Anagram\n",
      "Entered String is Palindrome\n"
     ]
    }
   ],
   "source": [
    "# W.A.P to check if the given string is Palindrome or Anagram or None of them.Display the message according to the user.\n",
    "\n",
    "a = str(input(\"Enter the 1st String: \"))\n",
    "b = str(input(\"Enter the 2nd String: \"))\n",
    "\n",
    "def state():\n",
    "    if sorted(a)==sorted(b):\n",
    "        print(\"Entered String is Anagram\")\n",
    "    if a == a[::-1]:\n",
    "        print(\"Entered String is Palindrome\")\n",
    "    else:\n",
    "        print(\"Entered String is neither Palindrome nor Anagram\")\n",
    "state()"
   ]
  },
  {
   "cell_type": "code",
   "execution_count": 11,
   "metadata": {},
   "outputs": [
    {
     "name": "stdout",
     "output_type": "stream",
     "text": [
      "String is:Ankita@1998$Sawant\n",
      "After removing all Special Characters result String is: ankita1998sawant\n"
     ]
    }
   ],
   "source": [
    "# W.A.P for user defined function that removes all the additional characters from the string and convert it finally to lower case using built-in lower().\n",
    "\n",
    "def replace_char(x):\n",
    "    invalid_list = ['!','@','#','$','%','^','&','*','`',',','.','/','_','-','+']\n",
    "    \n",
    "    for i in invalid_list:\n",
    "        x = x.replace(i,'')\n",
    "        x = x.lower()\n",
    "    print('After removing all Special Characters result String is:',x)\n",
    "    \n",
    "S = input(\"String is:\")\n",
    "#S = 'Dr. Darshan Ingle @AI-ML Trainer!!'\n",
    "#print(\"String is:\",S)\n",
    "replace_char(S)\n",
    "    "
   ]
  },
  {
   "cell_type": "code",
   "execution_count": null,
   "metadata": {},
   "outputs": [],
   "source": []
  }
 ],
 "metadata": {
  "kernelspec": {
   "display_name": "Python 3",
   "language": "python",
   "name": "python3"
  },
  "language_info": {
   "codemirror_mode": {
    "name": "ipython",
    "version": 3
   },
   "file_extension": ".py",
   "mimetype": "text/x-python",
   "name": "python",
   "nbconvert_exporter": "python",
   "pygments_lexer": "ipython3",
   "version": "3.7.6"
  }
 },
 "nbformat": 4,
 "nbformat_minor": 4
}
