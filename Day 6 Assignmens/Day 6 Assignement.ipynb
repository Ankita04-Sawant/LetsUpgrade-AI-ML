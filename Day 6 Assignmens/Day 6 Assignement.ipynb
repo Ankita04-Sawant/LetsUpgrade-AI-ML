{
 "cells": [
  {
   "cell_type": "markdown",
   "metadata": {},
   "source": [
    "# Question 1:"
   ]
  },
  {
   "cell_type": "code",
   "execution_count": 38,
   "metadata": {},
   "outputs": [
    {
     "name": "stdout",
     "output_type": "stream",
     "text": [
      "Enter the E-mail address:fsf@google.com\n",
      "google\n"
     ]
    }
   ],
   "source": [
    "# W.A.P to print the company name of a given email address. Both user names and company names are composed of letter sonly.\n",
    "\n",
    "\n",
    "a = input('Enter the E-mail address:')\n",
    "x = a.split('@')[1].split('.')[0]\n",
    "print(x)\n"
   ]
  },
  {
   "cell_type": "markdown",
   "metadata": {},
   "source": [
    "# Question 2:"
   ]
  },
  {
   "cell_type": "code",
   "execution_count": 26,
   "metadata": {},
   "outputs": [
    {
     "name": "stdout",
     "output_type": "stream",
     "text": [
      "Input:without,hello,bag,world\n",
      "['bag', 'hello', 'without', 'world'] "
     ]
    }
   ],
   "source": [
    "#W.A.P m that accepts a comma-separated sequence of words as input and prints the words in a comma separated sequence after sorting them alphabetically.\n",
    "\n",
    "data = list(input('Input:').split(','))\n",
    "data.sort()\n",
    "print(data,end = \" \")"
   ]
  },
  {
   "cell_type": "markdown",
   "metadata": {},
   "source": [
    "# Question 4:"
   ]
  },
  {
   "cell_type": "code",
   "execution_count": 9,
   "metadata": {},
   "outputs": [
    {
     "name": "stdout",
     "output_type": "stream",
     "text": [
      "Input Value:1 2 3 4 6 7 8\n",
      "The Missing number is: 5\n"
     ]
    }
   ],
   "source": [
    "#W.A.P to given a list of n-1 numbers ranging from 1 to n, your task is to find the missing number and there are no duplicates.\n",
    "\n",
    "\n",
    "list_data = list(map(int,input('Input Value:').split()))\n",
    "\n",
    "for i in range(1,list_data[-1]+1):\n",
    "    if i not in list_data:\n",
    "        print('The Missing number is:',i)"
   ]
  },
  {
   "cell_type": "markdown",
   "metadata": {},
   "source": [
    "# Question 5:"
   ]
  },
  {
   "cell_type": "code",
   "execution_count": 6,
   "metadata": {},
   "outputs": [
    {
     "name": "stdout",
     "output_type": "stream",
     "text": [
      "Enter the List:12 24 35 24 88 120 155 88 120 155\n",
      "Sorted List After removing the duplicates: [12, 24, 35, 88, 120, 155]\n"
     ]
    }
   ],
   "source": [
    "# W.A.P m to print this list L after removing all duplicate values with original order reserved.\n",
    "\n",
    "l = list(map(int,input('Enter the List:').strip().split()))\n",
    "x = sorted(set(l))\n",
    "print('Sorted List After removing the duplicates:',x)"
   ]
  }
 ],
 "metadata": {
  "kernelspec": {
   "display_name": "Python 3",
   "language": "python",
   "name": "python3"
  },
  "language_info": {
   "codemirror_mode": {
    "name": "ipython",
    "version": 3
   },
   "file_extension": ".py",
   "mimetype": "text/x-python",
   "name": "python",
   "nbconvert_exporter": "python",
   "pygments_lexer": "ipython3",
   "version": "3.7.6"
  }
 },
 "nbformat": 4,
 "nbformat_minor": 4
}
