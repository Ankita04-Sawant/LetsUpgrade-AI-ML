{
 "cells": [
  {
   "cell_type": "code",
   "execution_count": 78,
   "metadata": {},
   "outputs": [
    {
     "name": "stdout",
     "output_type": "stream",
     "text": [
      "Addition = (7-4j)\n",
      "subtraction = (1+10j)\n",
      "Multiplication = (33-19j)\n",
      "Division= (-0.15517241379310348+0.6379310344827587j)\n"
     ]
    }
   ],
   "source": [
    "# W.A.P to demonstrate Addition , Subtraction , Multiplication , Division , Floor Division and Modular Operators.\n",
    " \n",
    "x = 4+3j\n",
    "y = 3-7j\n",
    "\n",
    "print('Addition =',x+y)\n",
    "print('subtraction =',x-y)\n",
    "print('Multiplication =',x*y)\n",
    "print('Division=',x/y)\n",
    "# print('Floor division =',x//y)    //Floor division Cannot be performed on complex numbers\n",
    "# print('Modular =',x%y)           // Modular Operation Cannot be performed on complex numbers"
   ]
  },
  {
   "cell_type": "markdown",
   "metadata": {},
   "source": [
    "# What is range () Function\n",
    "\n",
    "__range() function__ is a built in function of python.It allows user to generate a series of number within a given range,user can decide where that series of numbers will begin and end as well as how big the difference will be between one number and next.\n",
    "\n",
    "range() takes mainly three arguments.\n",
    "\n",
    "1. start\n",
    "2. stop\n",
    "3. step\n",
    "\n",
    "There are three ways you can call range():\n",
    "\n",
    "range(stop) takes one argument.\n",
    "range(start,stop) takes two arguments.\n",
    "range(start,stop,step) takes three arguments."
   ]
  },
  {
   "cell_type": "code",
   "execution_count": 84,
   "metadata": {},
   "outputs": [
    {
     "name": "stdout",
     "output_type": "stream",
     "text": [
      "0 1 2 3 4 5 6 7 8 9 \n"
     ]
    }
   ],
   "source": [
    "# W.A.P for range() function\n",
    "\n",
    "for i in range(10):\n",
    "#        print(i)\n",
    "      print(i,end = \" \")\n",
    "print()"
   ]
  },
  {
   "cell_type": "code",
   "execution_count": 85,
   "metadata": {},
   "outputs": [
    {
     "name": "stdout",
     "output_type": "stream",
     "text": [
      "25\n",
      "Division = 6.0\n"
     ]
    }
   ],
   "source": [
    "# W.A.P to perform subtraction of two numbers if the result of subtraction is greater than 25 print their multiplication \n",
    "#result else print their division.\n",
    "\n",
    "x = 30\n",
    "y = 5\n",
    "\n",
    "c =(x-y)\n",
    "print(c)\n",
    "\n",
    "if c > 25:\n",
    "     print('Multiplication =',x*y)\n",
    "else:\n",
    "     print('Division =',x/y)\n",
    "\n"
   ]
  },
  {
   "cell_type": "code",
   "execution_count": 35,
   "metadata": {},
   "outputs": [
    {
     "name": "stdout",
     "output_type": "stream",
     "text": [
      "Square of 2 Minus 2 is 2\n",
      "Square of 4 Minus 2 is 14\n",
      "Square of 6 Minus 2 is 34\n",
      "Square of 8 Minus 2 is 62\n",
      "Square of 10 Minus 2 is 98\n"
     ]
    }
   ],
   "source": [
    "# W.A.P to list 10 elements of integer Values.If the number in the list is divisible by 2 print the result as square of that number minus 2\n",
    "\n",
    "l = [2,3,4,5,6,7,8,9,10,11]\n",
    "\n",
    "for i in l :\n",
    "    if (i%2==0):\n",
    "        print('Square of',i,'Minus 2 is',i**2-2)"
   ]
  },
  {
   "cell_type": "code",
   "execution_count": 86,
   "metadata": {},
   "outputs": [
    {
     "name": "stdout",
     "output_type": "stream",
     "text": [
      "Number 8 is greater than 7 and divided by 2\n",
      "Number 10 is greater than 7 and divided by 2\n"
     ]
    }
   ],
   "source": [
    "# W.A.P to create a 10 element list then print all elements in the list which are greater than 7 when that number is divided by 2.\n",
    "\n",
    "l = [1,2,3,4,5,6,7,8,9,10]\n",
    "\n",
    "for i in l:\n",
    "    if (i%2==0):\n",
    "        if (i>7):\n",
    "            print('Number',i,'is greater than 7 and divided by 2')"
   ]
  }
 ],
 "metadata": {
  "kernelspec": {
   "display_name": "Python 3",
   "language": "python",
   "name": "python3"
  },
  "language_info": {
   "codemirror_mode": {
    "name": "ipython",
    "version": 3
   },
   "file_extension": ".py",
   "mimetype": "text/x-python",
   "name": "python",
   "nbconvert_exporter": "python",
   "pygments_lexer": "ipython3",
   "version": "3.7.6"
  }
 },
 "nbformat": 4,
 "nbformat_minor": 4
}
